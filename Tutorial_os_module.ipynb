{
 "cells": [
  {
   "cell_type": "markdown",
   "metadata": {},
   "source": [
    "# Tutorial: os Module\n",
    "The os-module allows access to the functionality of the underlying file system. This includes the following:\n",
    "- navigate the file system\n",
    "- obtain file information\n",
    "- rename files\n",
    "- search directory trees\n",
    "- fetch environment variables\n",
    "- perform many other tasks"
   ]
  },
  {
   "cell_type": "code",
   "execution_count": 276,
   "metadata": {},
   "outputs": [],
   "source": [
    "import os\n",
    "from datetime import datetime"
   ]
  },
  {
   "cell_type": "code",
   "execution_count": 277,
   "metadata": {},
   "outputs": [
    {
     "data": {
      "text/plain": [
       "['DirEntry',\n",
       " 'F_OK',\n",
       " 'GenericAlias',\n",
       " 'Mapping',\n",
       " 'MutableMapping',\n",
       " 'O_APPEND',\n",
       " 'O_BINARY',\n",
       " 'O_CREAT',\n",
       " 'O_EXCL',\n",
       " 'O_NOINHERIT',\n",
       " 'O_RANDOM',\n",
       " 'O_RDONLY',\n",
       " 'O_RDWR',\n",
       " 'O_SEQUENTIAL',\n",
       " 'O_SHORT_LIVED',\n",
       " 'O_TEMPORARY',\n",
       " 'O_TEXT',\n",
       " 'O_TRUNC',\n",
       " 'O_WRONLY',\n",
       " 'P_DETACH',\n",
       " 'P_NOWAIT',\n",
       " 'P_NOWAITO',\n",
       " 'P_OVERLAY',\n",
       " 'P_WAIT',\n",
       " 'PathLike',\n",
       " 'R_OK',\n",
       " 'SEEK_CUR',\n",
       " 'SEEK_END',\n",
       " 'SEEK_SET',\n",
       " 'TMP_MAX',\n",
       " 'W_OK',\n",
       " 'X_OK',\n",
       " '_AddedDllDirectory',\n",
       " '_Environ',\n",
       " '__all__',\n",
       " '__builtins__',\n",
       " '__cached__',\n",
       " '__doc__',\n",
       " '__file__',\n",
       " '__loader__',\n",
       " '__name__',\n",
       " '__package__',\n",
       " '__spec__',\n",
       " '_check_methods',\n",
       " '_execvpe',\n",
       " '_exists',\n",
       " '_exit',\n",
       " '_fspath',\n",
       " '_get_exports_list',\n",
       " '_walk',\n",
       " '_wrap_close',\n",
       " 'abc',\n",
       " 'abort',\n",
       " 'access',\n",
       " 'add_dll_directory',\n",
       " 'altsep',\n",
       " 'chdir',\n",
       " 'chmod',\n",
       " 'close',\n",
       " 'closerange',\n",
       " 'cpu_count',\n",
       " 'curdir',\n",
       " 'defpath',\n",
       " 'device_encoding',\n",
       " 'devnull',\n",
       " 'dup',\n",
       " 'dup2',\n",
       " 'environ',\n",
       " 'error',\n",
       " 'execl',\n",
       " 'execle',\n",
       " 'execlp',\n",
       " 'execlpe',\n",
       " 'execv',\n",
       " 'execve',\n",
       " 'execvp',\n",
       " 'execvpe',\n",
       " 'extsep',\n",
       " 'fdopen',\n",
       " 'fsdecode',\n",
       " 'fsencode',\n",
       " 'fspath',\n",
       " 'fstat',\n",
       " 'fsync',\n",
       " 'ftruncate',\n",
       " 'get_exec_path',\n",
       " 'get_handle_inheritable',\n",
       " 'get_inheritable',\n",
       " 'get_terminal_size',\n",
       " 'getcwd',\n",
       " 'getcwdb',\n",
       " 'getenv',\n",
       " 'getlogin',\n",
       " 'getpid',\n",
       " 'getppid',\n",
       " 'isatty',\n",
       " 'kill',\n",
       " 'linesep',\n",
       " 'link',\n",
       " 'listdir',\n",
       " 'lseek',\n",
       " 'lstat',\n",
       " 'makedirs',\n",
       " 'mkdir',\n",
       " 'name',\n",
       " 'open',\n",
       " 'pardir',\n",
       " 'path',\n",
       " 'pathsep',\n",
       " 'pipe',\n",
       " 'popen',\n",
       " 'putenv',\n",
       " 'read',\n",
       " 'readlink',\n",
       " 'remove',\n",
       " 'removedirs',\n",
       " 'rename',\n",
       " 'renames',\n",
       " 'replace',\n",
       " 'rmdir',\n",
       " 'scandir',\n",
       " 'sep',\n",
       " 'set_handle_inheritable',\n",
       " 'set_inheritable',\n",
       " 'spawnl',\n",
       " 'spawnle',\n",
       " 'spawnv',\n",
       " 'spawnve',\n",
       " 'st',\n",
       " 'startfile',\n",
       " 'stat',\n",
       " 'stat_result',\n",
       " 'statvfs_result',\n",
       " 'strerror',\n",
       " 'supports_bytes_environ',\n",
       " 'supports_dir_fd',\n",
       " 'supports_effective_ids',\n",
       " 'supports_fd',\n",
       " 'supports_follow_symlinks',\n",
       " 'symlink',\n",
       " 'sys',\n",
       " 'system',\n",
       " 'terminal_size',\n",
       " 'times',\n",
       " 'times_result',\n",
       " 'truncate',\n",
       " 'umask',\n",
       " 'uname_result',\n",
       " 'unlink',\n",
       " 'unsetenv',\n",
       " 'urandom',\n",
       " 'utime',\n",
       " 'waitpid',\n",
       " 'waitstatus_to_exitcode',\n",
       " 'walk',\n",
       " 'write']"
      ]
     },
     "execution_count": 277,
     "metadata": {},
     "output_type": "execute_result"
    }
   ],
   "source": [
    "dir(os) # Shows all attributes and methods of the os-module"
   ]
  },
  {
   "cell_type": "code",
   "execution_count": 278,
   "metadata": {},
   "outputs": [
    {
     "data": {
      "text/plain": [
       "'C:\\\\Users\\\\mling\\\\Python-Practice'"
      ]
     },
     "execution_count": 278,
     "metadata": {},
     "output_type": "execute_result"
    }
   ],
   "source": [
    "os.getcwd() # Returns the current working directory (cwd)"
   ]
  },
  {
   "cell_type": "code",
   "execution_count": 279,
   "metadata": {},
   "outputs": [],
   "source": [
    "os.chdir('C:/Users/mling') # Changes current directory (chdir)"
   ]
  },
  {
   "cell_type": "code",
   "execution_count": 280,
   "metadata": {},
   "outputs": [
    {
     "data": {
      "text/plain": [
       "['.anaconda',\n",
       " '.bash_history',\n",
       " '.conda',\n",
       " '.condarc',\n",
       " '.continuum',\n",
       " '.gitconfig',\n",
       " '.ipython',\n",
       " '.jupyter',\n",
       " '.matplotlib',\n",
       " '.ms-ad',\n",
       " '.vscode',\n",
       " 'anaconda3',\n",
       " 'AppData',\n",
       " 'Application Data',\n",
       " 'Contacts',\n",
       " 'Cookies',\n",
       " 'Desktop',\n",
       " 'Documents',\n",
       " 'Downloads',\n",
       " 'Favorites',\n",
       " 'handson-ml',\n",
       " 'IDS-Assignment',\n",
       " 'Links',\n",
       " 'Local Settings',\n",
       " 'Microsoft',\n",
       " 'Music',\n",
       " 'My Documents',\n",
       " 'NetHood',\n",
       " 'NTUSER.DAT',\n",
       " 'ntuser.dat.LOG1',\n",
       " 'ntuser.dat.LOG2',\n",
       " 'NTUSER.DAT{c72fda8b-7148-11ef-bf24-bf70083291bb}.TM.blf',\n",
       " 'NTUSER.DAT{c72fda8b-7148-11ef-bf24-bf70083291bb}.TMContainer00000000000000000001.regtrans-ms',\n",
       " 'NTUSER.DAT{c72fda8b-7148-11ef-bf24-bf70083291bb}.TMContainer00000000000000000002.regtrans-ms',\n",
       " 'ntuser.ini',\n",
       " 'OneDrive',\n",
       " 'Pictures',\n",
       " 'Power BI PW_Tutorial',\n",
       " 'PowerBI-student-data',\n",
       " 'PrintHood',\n",
       " 'Project_F',\n",
       " 'Python-Practice',\n",
       " 'Recent',\n",
       " 'Saved Games',\n",
       " 'Searches',\n",
       " 'SendTo',\n",
       " 'Start Menu',\n",
       " 'Templates',\n",
       " 'Videos']"
      ]
     },
     "execution_count": 280,
     "metadata": {},
     "output_type": "execute_result"
    }
   ],
   "source": [
    "os.listdir() # Lists the files and folders in the current directory (listdir)"
   ]
  },
  {
   "cell_type": "code",
   "execution_count": 281,
   "metadata": {},
   "outputs": [],
   "source": [
    "os.mkdir(\"dummy_folder\") # creates a folder in the current directory"
   ]
  },
  {
   "cell_type": "code",
   "execution_count": 282,
   "metadata": {},
   "outputs": [],
   "source": [
    "os.makedirs(\"dumdum_folder/subdum_folder\") # Can create a multiple level directory"
   ]
  },
  {
   "cell_type": "code",
   "execution_count": 283,
   "metadata": {},
   "outputs": [],
   "source": [
    "os.rmdir('dummy_folder') # removes a folder from a current directory"
   ]
  },
  {
   "cell_type": "code",
   "execution_count": 284,
   "metadata": {},
   "outputs": [],
   "source": [
    "os.removedirs('dumdum_folder/subdum_folder') # removes a multiple level directory from the current directory"
   ]
  },
  {
   "cell_type": "code",
   "execution_count": 285,
   "metadata": {},
   "outputs": [
    {
     "data": {
      "text/plain": [
       "'C:\\\\Users\\\\mling\\\\python-practice'"
      ]
     },
     "execution_count": 285,
     "metadata": {},
     "output_type": "execute_result"
    }
   ],
   "source": [
    "os.chdir('C:/Users/mling/python-practice')\n",
    "os.getcwd()"
   ]
  },
  {
   "cell_type": "code",
   "execution_count": 286,
   "metadata": {},
   "outputs": [
    {
     "data": {
      "text/plain": [
       "['.git', 'demo.txt', 'Tutorial_os_module.ipynb']"
      ]
     },
     "execution_count": 286,
     "metadata": {},
     "output_type": "execute_result"
    }
   ],
   "source": [
    "os.listdir()"
   ]
  },
  {
   "cell_type": "code",
   "execution_count": 287,
   "metadata": {},
   "outputs": [],
   "source": [
    "os.rename(\"demo.txt\", \"demo2.txt\") # renames a file"
   ]
  },
  {
   "cell_type": "code",
   "execution_count": 288,
   "metadata": {},
   "outputs": [
    {
     "data": {
      "text/plain": [
       "['.git', 'demo2.txt', 'Tutorial_os_module.ipynb']"
      ]
     },
     "execution_count": 288,
     "metadata": {},
     "output_type": "execute_result"
    }
   ],
   "source": [
    "os.listdir()"
   ]
  },
  {
   "cell_type": "code",
   "execution_count": 289,
   "metadata": {},
   "outputs": [],
   "source": [
    "os.rename('demo2.txt', 'demo.txt')"
   ]
  },
  {
   "cell_type": "code",
   "execution_count": 290,
   "metadata": {},
   "outputs": [
    {
     "data": {
      "text/plain": [
       "['.git', 'demo.txt', 'Tutorial_os_module.ipynb']"
      ]
     },
     "execution_count": 290,
     "metadata": {},
     "output_type": "execute_result"
    }
   ],
   "source": [
    "os.listdir()"
   ]
  },
  {
   "cell_type": "code",
   "execution_count": 291,
   "metadata": {},
   "outputs": [
    {
     "data": {
      "text/plain": [
       "os.stat_result(st_mode=33206, st_ino=35747322042385185, st_dev=4172213613, st_nlink=1, st_uid=0, st_gid=0, st_size=25, st_atime=1734522908, st_mtime=1734522908, st_ctime=1734522219)"
      ]
     },
     "execution_count": 291,
     "metadata": {},
     "output_type": "execute_result"
    }
   ],
   "source": [
    "os.stat('demo.txt') # shows several stat attributes of a file"
   ]
  },
  {
   "cell_type": "code",
   "execution_count": 292,
   "metadata": {},
   "outputs": [
    {
     "data": {
      "text/plain": [
       "25"
      ]
     },
     "execution_count": 292,
     "metadata": {},
     "output_type": "execute_result"
    }
   ],
   "source": [
    "os.stat('demo.txt').st_size # returns the size of the file in bytes"
   ]
  },
  {
   "cell_type": "code",
   "execution_count": 293,
   "metadata": {},
   "outputs": [
    {
     "data": {
      "text/plain": [
       "1734522908.9199402"
      ]
     },
     "execution_count": 293,
     "metadata": {},
     "output_type": "execute_result"
    }
   ],
   "source": [
    "mod_time = os.stat('demo.txt').st_mtime # returns the last modification time (in timestamp format)\n",
    "mod_time"
   ]
  },
  {
   "cell_type": "code",
   "execution_count": 294,
   "metadata": {},
   "outputs": [
    {
     "name": "stdout",
     "output_type": "stream",
     "text": [
      "2024-12-18 12:55:08.919940\n"
     ]
    }
   ],
   "source": [
    "print(datetime.fromtimestamp(mod_time)) # converts a timestamp to datetime format"
   ]
  },
  {
   "cell_type": "code",
   "execution_count": 295,
   "metadata": {},
   "outputs": [
    {
     "data": {
      "text/plain": [
       "'C:\\\\Users\\\\mling\\\\handson-ml'"
      ]
     },
     "execution_count": 295,
     "metadata": {},
     "output_type": "execute_result"
    }
   ],
   "source": [
    "os.chdir('C:/Users/mling/handson-ml')\n",
    "os.getcwd()"
   ]
  },
  {
   "cell_type": "code",
   "execution_count": 296,
   "metadata": {},
   "outputs": [
    {
     "name": "stdout",
     "output_type": "stream",
     "text": [
      "Current Path C:\\Users\\mling\\handson-ml\n",
      "Directories: ['.git', 'datasets', 'docker', 'images']\n",
      "Files ['.gitignore', '01_the_machine_learning_landscape.ipynb', '02_end_to_end_machine_learning_project.ipynb', '03_classification.ipynb', '04_training_linear_models.ipynb', '05_support_vector_machines.ipynb', '06_decision_trees.ipynb', '07_ensemble_learning_and_random_forests.ipynb', '08_dimensionality_reduction.ipynb', '09_up_and_running_with_tensorflow.ipynb', '10_introduction_to_artificial_neural_networks.ipynb', '11_deep_learning.ipynb', '12_distributed_tensorflow.ipynb', '13_convolutional_neural_networks.ipynb', '14_recurrent_neural_networks.ipynb', '15_autoencoders.ipynb', '16_reinforcement_learning.ipynb', 'apt.txt', 'book_equations.ipynb', 'environment.yml', 'extra_autodiff.ipynb', 'extra_capsnets-cn.ipynb', 'extra_capsnets.ipynb', 'extra_gradient_descent_comparison.ipynb', 'extra_tensorflow_reproducibility.ipynb', 'future_encoders.py', 'index.ipynb', 'INSTALL.md', 'LICENSE', 'math_differential_calculus.ipynb', 'math_linear_algebra.ipynb', 'ml-project-checklist.md', 'README.md', 'requirements.txt', 'tools_matplotlib.ipynb', 'tools_numpy.ipynb', 'tools_pandas.ipynb']\n",
      "\n",
      "Current Path C:\\Users\\mling\\handson-ml\\.git\n",
      "Directories: ['hooks', 'info', 'logs', 'objects', 'refs']\n",
      "Files ['config', 'description', 'HEAD', 'index', 'packed-refs']\n",
      "\n",
      "Current Path C:\\Users\\mling\\handson-ml\\.git\\hooks\n",
      "Directories: []\n",
      "Files ['applypatch-msg.sample', 'commit-msg.sample', 'fsmonitor-watchman.sample', 'post-update.sample', 'pre-applypatch.sample', 'pre-commit.sample', 'pre-merge-commit.sample', 'pre-push.sample', 'pre-rebase.sample', 'pre-receive.sample', 'prepare-commit-msg.sample', 'push-to-checkout.sample', 'sendemail-validate.sample', 'update.sample']\n",
      "\n",
      "Current Path C:\\Users\\mling\\handson-ml\\.git\\info\n",
      "Directories: []\n",
      "Files ['exclude']\n",
      "\n",
      "Current Path C:\\Users\\mling\\handson-ml\\.git\\logs\n",
      "Directories: ['refs']\n",
      "Files ['HEAD']\n",
      "\n",
      "Current Path C:\\Users\\mling\\handson-ml\\.git\\logs\\refs\n",
      "Directories: ['heads', 'remotes']\n",
      "Files []\n",
      "\n",
      "Current Path C:\\Users\\mling\\handson-ml\\.git\\logs\\refs\\heads\n",
      "Directories: []\n",
      "Files ['master']\n",
      "\n",
      "Current Path C:\\Users\\mling\\handson-ml\\.git\\logs\\refs\\remotes\n",
      "Directories: ['origin']\n",
      "Files []\n",
      "\n",
      "Current Path C:\\Users\\mling\\handson-ml\\.git\\logs\\refs\\remotes\\origin\n",
      "Directories: []\n",
      "Files ['HEAD']\n",
      "\n",
      "Current Path C:\\Users\\mling\\handson-ml\\.git\\objects\n",
      "Directories: ['info', 'pack']\n",
      "Files []\n",
      "\n",
      "Current Path C:\\Users\\mling\\handson-ml\\.git\\objects\\info\n",
      "Directories: []\n",
      "Files []\n",
      "\n",
      "Current Path C:\\Users\\mling\\handson-ml\\.git\\objects\\pack\n",
      "Directories: []\n",
      "Files ['pack-8557c90b0d8bff475cbe9ab3983f4c49b815f1df.idx', 'pack-8557c90b0d8bff475cbe9ab3983f4c49b815f1df.pack', 'pack-8557c90b0d8bff475cbe9ab3983f4c49b815f1df.rev']\n",
      "\n",
      "Current Path C:\\Users\\mling\\handson-ml\\.git\\refs\n",
      "Directories: ['heads', 'remotes', 'tags']\n",
      "Files []\n",
      "\n",
      "Current Path C:\\Users\\mling\\handson-ml\\.git\\refs\\heads\n",
      "Directories: []\n",
      "Files ['master']\n",
      "\n",
      "Current Path C:\\Users\\mling\\handson-ml\\.git\\refs\\remotes\n",
      "Directories: ['origin']\n",
      "Files []\n",
      "\n",
      "Current Path C:\\Users\\mling\\handson-ml\\.git\\refs\\remotes\\origin\n",
      "Directories: []\n",
      "Files ['HEAD']\n",
      "\n",
      "Current Path C:\\Users\\mling\\handson-ml\\.git\\refs\\tags\n",
      "Directories: []\n",
      "Files []\n",
      "\n",
      "Current Path C:\\Users\\mling\\handson-ml\\datasets\n",
      "Directories: ['housing', 'inception', 'lifesat']\n",
      "Files []\n",
      "\n",
      "Current Path C:\\Users\\mling\\handson-ml\\datasets\\housing\n",
      "Directories: []\n",
      "Files ['housing.csv', 'housing.tgz', 'README.md']\n",
      "\n",
      "Current Path C:\\Users\\mling\\handson-ml\\datasets\\inception\n",
      "Directories: []\n",
      "Files ['imagenet_class_names.txt']\n",
      "\n",
      "Current Path C:\\Users\\mling\\handson-ml\\datasets\\lifesat\n",
      "Directories: []\n",
      "Files ['gdp_per_capita.csv', 'oecd_bli_2015.csv', 'README.md']\n",
      "\n",
      "Current Path C:\\Users\\mling\\handson-ml\\docker\n",
      "Directories: ['bin']\n",
      "Files ['.env', 'bashrc.bash', 'docker-compose.yml', 'Dockerfile', 'jupyter_notebook_config.py', 'Makefile', 'README.md']\n",
      "\n",
      "Current Path C:\\Users\\mling\\handson-ml\\docker\\bin\n",
      "Directories: []\n",
      "Files ['nbclean_checkpoints', 'nbdiff_checkpoint', 'rm_empty_subdirs', 'tensorboard']\n",
      "\n",
      "Current Path C:\\Users\\mling\\handson-ml\\images\n",
      "Directories: ['ann', 'autoencoders', 'classification', 'cnn', 'decision_trees', 'deep', 'distributed', 'end_to_end_project', 'ensembles', 'fundamentals', 'rl', 'rnn', 'svm', 'tensorflow', 'training_linear_models', 'unsupervised_learning']\n",
      "Files []\n",
      "\n",
      "Current Path C:\\Users\\mling\\handson-ml\\images\\ann\n",
      "Directories: []\n",
      "Files ['README']\n",
      "\n",
      "Current Path C:\\Users\\mling\\handson-ml\\images\\autoencoders\n",
      "Directories: []\n",
      "Files ['README']\n",
      "\n",
      "Current Path C:\\Users\\mling\\handson-ml\\images\\classification\n",
      "Directories: []\n",
      "Files ['README']\n",
      "\n",
      "Current Path C:\\Users\\mling\\handson-ml\\images\\cnn\n",
      "Directories: []\n",
      "Files ['README', 'test_image.png']\n",
      "\n",
      "Current Path C:\\Users\\mling\\handson-ml\\images\\decision_trees\n",
      "Directories: []\n",
      "Files ['README']\n",
      "\n",
      "Current Path C:\\Users\\mling\\handson-ml\\images\\deep\n",
      "Directories: []\n",
      "Files ['README']\n",
      "\n",
      "Current Path C:\\Users\\mling\\handson-ml\\images\\distributed\n",
      "Directories: []\n",
      "Files ['README']\n",
      "\n",
      "Current Path C:\\Users\\mling\\handson-ml\\images\\end_to_end_project\n",
      "Directories: []\n",
      "Files ['california.png', 'README']\n",
      "\n",
      "Current Path C:\\Users\\mling\\handson-ml\\images\\ensembles\n",
      "Directories: []\n",
      "Files ['README']\n",
      "\n",
      "Current Path C:\\Users\\mling\\handson-ml\\images\\fundamentals\n",
      "Directories: []\n",
      "Files ['README']\n",
      "\n",
      "Current Path C:\\Users\\mling\\handson-ml\\images\\rl\n",
      "Directories: []\n",
      "Files ['README']\n",
      "\n",
      "Current Path C:\\Users\\mling\\handson-ml\\images\\rnn\n",
      "Directories: []\n",
      "Files ['README']\n",
      "\n",
      "Current Path C:\\Users\\mling\\handson-ml\\images\\svm\n",
      "Directories: []\n",
      "Files ['README']\n",
      "\n",
      "Current Path C:\\Users\\mling\\handson-ml\\images\\tensorflow\n",
      "Directories: []\n",
      "Files ['README']\n",
      "\n",
      "Current Path C:\\Users\\mling\\handson-ml\\images\\training_linear_models\n",
      "Directories: []\n",
      "Files ['README']\n",
      "\n",
      "Current Path C:\\Users\\mling\\handson-ml\\images\\unsupervised_learning\n",
      "Directories: []\n",
      "Files ['ladybug.png', 'README']\n",
      "\n"
     ]
    }
   ],
   "source": [
    "# os.walk is a generator that yields a tuple of three values as its wallking the directory tree\n",
    "# for each directory that it sees it yields:\n",
    "# (The_directory_path, the_directories_within_that_path, the_files_within_that_path )\n",
    "\n",
    "# By default this traverses from top down\n",
    "for dirpath, dirnames, filenames in os.walk(os.getcwd()):\n",
    "    print(f\"Current Path\" , dirpath)\n",
    "    print(f\"Directories:\" , dirnames)\n",
    "    print(f\"Files\", filenames)\n",
    "    print()"
   ]
  },
  {
   "cell_type": "markdown",
   "metadata": {},
   "source": [
    "A HOME environment variable is a system-defined variable that specifies the path to the current user's home directory. This directory serves as the primary location for a user's personal files, configuration settings, and application data.\n",
    "\n",
    "- On Unix/Linux/macOS:\n",
    "    - Typically set to a path like /home/username or /Users/username.\n",
    "    - Used by applications to store user-specific configurations and data.\n",
    "      On Windows:\n",
    "\n",
    "- Windows doesn't use HOME by default. Instead, it relies on variables like USERPROFILE (e.g., C:\\Users\\Username) to serve a similar purpose."
   ]
  },
  {
   "cell_type": "code",
   "execution_count": 297,
   "metadata": {},
   "outputs": [
    {
     "data": {
      "text/plain": [
       "'\\\\Users\\\\mling'"
      ]
     },
     "execution_count": 297,
     "metadata": {},
     "output_type": "execute_result"
    }
   ],
   "source": [
    "home_env = os.environ.get('HOMEPATH') # pass \"HOMEDRIVE\", \"USERPROFILE\" or \"HOMEPATH\" to return the home environment variable\n",
    "home_env"
   ]
  },
  {
   "cell_type": "code",
   "execution_count": 298,
   "metadata": {},
   "outputs": [
    {
     "data": {
      "text/plain": [
       "'\\\\Users\\\\mling\\\\test.txt'"
      ]
     },
     "execution_count": 298,
     "metadata": {},
     "output_type": "execute_result"
    }
   ],
   "source": [
    "file_path = os.path.join(home_env, 'test.txt') # Can join two paths together\n",
    "file_path\n",
    "\n",
    "# To actually create a file use the `open(file_path, 'w') as f:` method."
   ]
  },
  {
   "cell_type": "code",
   "execution_count": 299,
   "metadata": {},
   "outputs": [
    {
     "data": {
      "text/plain": [
       "'test.txt'"
      ]
     },
     "execution_count": 299,
     "metadata": {},
     "output_type": "execute_result"
    }
   ],
   "source": [
    "os.path.basename(file_path) # returns the basename of a path"
   ]
  },
  {
   "cell_type": "code",
   "execution_count": 300,
   "metadata": {},
   "outputs": [
    {
     "data": {
      "text/plain": [
       "'\\\\Users\\\\mling'"
      ]
     },
     "execution_count": 300,
     "metadata": {},
     "output_type": "execute_result"
    }
   ],
   "source": [
    "os.path.dirname(file_path) # returns the directory name of a path"
   ]
  },
  {
   "cell_type": "code",
   "execution_count": 301,
   "metadata": {},
   "outputs": [
    {
     "data": {
      "text/plain": [
       "('\\\\Users\\\\mling', 'test.txt')"
      ]
     },
     "execution_count": 301,
     "metadata": {},
     "output_type": "execute_result"
    }
   ],
   "source": [
    "os.path.split(file_path) # returms the directory and basename in tuple format"
   ]
  },
  {
   "cell_type": "code",
   "execution_count": 302,
   "metadata": {},
   "outputs": [
    {
     "data": {
      "text/plain": [
       "False"
      ]
     },
     "execution_count": 302,
     "metadata": {},
     "output_type": "execute_result"
    }
   ],
   "source": [
    "os.path.exists(file_path) # Checks if the path actually exists on the file system"
   ]
  },
  {
   "cell_type": "code",
   "execution_count": 303,
   "metadata": {},
   "outputs": [
    {
     "data": {
      "text/plain": [
       "False"
      ]
     },
     "execution_count": 303,
     "metadata": {},
     "output_type": "execute_result"
    }
   ],
   "source": [
    "os.path.isdir(file_path) # Returns true if path is an existing directory"
   ]
  },
  {
   "cell_type": "code",
   "execution_count": 304,
   "metadata": {},
   "outputs": [
    {
     "data": {
      "text/plain": [
       "True"
      ]
     },
     "execution_count": 304,
     "metadata": {},
     "output_type": "execute_result"
    }
   ],
   "source": [
    "os.path.isdir(home_env) "
   ]
  },
  {
   "cell_type": "code",
   "execution_count": 305,
   "metadata": {},
   "outputs": [
    {
     "data": {
      "text/plain": [
       "False"
      ]
     },
     "execution_count": 305,
     "metadata": {},
     "output_type": "execute_result"
    }
   ],
   "source": [
    "os.path.isfile(home_env) # Returns true if path is an existing file"
   ]
  },
  {
   "cell_type": "code",
   "execution_count": 306,
   "metadata": {},
   "outputs": [
    {
     "data": {
      "text/plain": [
       "'C:\\\\Users\\\\mling\\\\handson-ml'"
      ]
     },
     "execution_count": 306,
     "metadata": {},
     "output_type": "execute_result"
    }
   ],
   "source": [
    "os.getcwd()"
   ]
  },
  {
   "cell_type": "code",
   "execution_count": 323,
   "metadata": {},
   "outputs": [
    {
     "data": {
      "text/plain": [
       "True"
      ]
     },
     "execution_count": 323,
     "metadata": {},
     "output_type": "execute_result"
    }
   ],
   "source": [
    "os.chdir(\n",
    "    os.path.join(\n",
    "        home_env,\n",
    "        'Python-Practice'\n",
    "    )\n",
    ")\n",
    "os.getcwd()"
   ]
  },
  {
   "cell_type": "code",
   "execution_count": 318,
   "metadata": {},
   "outputs": [
    {
     "data": {
      "text/plain": [
       "('/python-practice/demo', '.txt')"
      ]
     },
     "execution_count": 318,
     "metadata": {},
     "output_type": "execute_result"
    }
   ],
   "source": [
    "os.path.splitext('/python-practice/demo.txt') # splits the root of the path from the extension and returns both values in a Tuple"
   ]
  },
  {
   "cell_type": "code",
   "execution_count": 326,
   "metadata": {},
   "outputs": [
    {
     "data": {
      "text/plain": [
       "['_LCMAP_LOWERCASE',\n",
       " '_LCMapStringEx',\n",
       " '_LOCALE_NAME_INVARIANT',\n",
       " '__all__',\n",
       " '__builtins__',\n",
       " '__cached__',\n",
       " '__doc__',\n",
       " '__file__',\n",
       " '__loader__',\n",
       " '__name__',\n",
       " '__package__',\n",
       " '__spec__',\n",
       " '_abspath_fallback',\n",
       " '_get_bothseps',\n",
       " '_getfinalpathname',\n",
       " '_getfinalpathname_nonstrict',\n",
       " '_getfullpathname',\n",
       " '_getvolumepathname',\n",
       " '_nt_readlink',\n",
       " '_readlink_deep',\n",
       " 'abspath',\n",
       " 'altsep',\n",
       " 'basename',\n",
       " 'commonpath',\n",
       " 'commonprefix',\n",
       " 'curdir',\n",
       " 'defpath',\n",
       " 'devnull',\n",
       " 'dirname',\n",
       " 'exists',\n",
       " 'expanduser',\n",
       " 'expandvars',\n",
       " 'extsep',\n",
       " 'genericpath',\n",
       " 'getatime',\n",
       " 'getctime',\n",
       " 'getmtime',\n",
       " 'getsize',\n",
       " 'isabs',\n",
       " 'isdir',\n",
       " 'isfile',\n",
       " 'islink',\n",
       " 'ismount',\n",
       " 'join',\n",
       " 'lexists',\n",
       " 'normcase',\n",
       " 'normpath',\n",
       " 'os',\n",
       " 'pardir',\n",
       " 'pathsep',\n",
       " 'realpath',\n",
       " 'relpath',\n",
       " 'samefile',\n",
       " 'sameopenfile',\n",
       " 'samestat',\n",
       " 'sep',\n",
       " 'split',\n",
       " 'splitdrive',\n",
       " 'splitext',\n",
       " 'stat',\n",
       " 'supports_unicode_filenames',\n",
       " 'sys']"
      ]
     },
     "execution_count": 326,
     "metadata": {},
     "output_type": "execute_result"
    }
   ],
   "source": [
    "dir(os.path) # Shows more useful methods and attributes for the os.path function"
   ]
  },
  {
   "cell_type": "code",
   "execution_count": null,
   "metadata": {},
   "outputs": [],
   "source": []
  }
 ],
 "metadata": {
  "kernelspec": {
   "display_name": "myenv",
   "language": "python",
   "name": "python3"
  },
  "language_info": {
   "codemirror_mode": {
    "name": "ipython",
    "version": 3
   },
   "file_extension": ".py",
   "mimetype": "text/x-python",
   "name": "python",
   "nbconvert_exporter": "python",
   "pygments_lexer": "ipython3",
   "version": "3.10.15"
  }
 },
 "nbformat": 4,
 "nbformat_minor": 2
}
